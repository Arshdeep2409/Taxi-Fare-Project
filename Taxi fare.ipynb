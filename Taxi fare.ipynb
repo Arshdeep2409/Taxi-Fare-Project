{
 "cells": [
  {
   "cell_type": "code",
   "execution_count": 1,
   "id": "034fd203",
   "metadata": {},
   "outputs": [
    {
     "name": "stdout",
     "output_type": "stream",
     "text": [
      "enter your nameArshdeep Singh\n",
      "welcome to yo yo taxisArshdeep Singh\n",
      "enter the name of the destination please :)Janakpuri\n",
      "thank you so muchArshdeep Singh\n",
      "please enter the kilometersArshdeep Singh19\n",
      "228\n",
      "thanks for choosing yoyo taxi\n"
     ]
    }
   ],
   "source": [
    "#below is the program of a taxi fare\n",
    "\n",
    "name=input(\"enter your name\")\n",
    "print(\"welcome to yo yo taxis\"+name)\n",
    "destination=input(\"enter the name of the destination please :)\")\n",
    "print(\"thank you so much\"+name)\n",
    "kilometers=int(input(\"please enter the kilometers\"+name))\n",
    "taxi_fare=12\n",
    "c=taxi_fare*kilometers\n",
    "\n",
    "if kilometers==1:\n",
    "    print(taxi_fare)\n",
    "    print(\"you need to pay\"+taxi_fare)\n",
    "    \n",
    "\n",
    "#elif kilometers==3:\n",
    "    #print(taxi_fare*3)\n",
    "#elif kilometers>3<5:\n",
    "    #print(taxi_fare*4)\n",
    "\n",
    "else:\n",
    "    print(c)\n",
    "print(\"thanks for choosing yoyo taxi\")"
   ]
  },
  {
   "cell_type": "code",
   "execution_count": null,
   "id": "e3343a9a",
   "metadata": {},
   "outputs": [],
   "source": []
  }
 ],
 "metadata": {
  "kernelspec": {
   "display_name": "Python 3 (ipykernel)",
   "language": "python",
   "name": "python3"
  },
  "language_info": {
   "codemirror_mode": {
    "name": "ipython",
    "version": 3
   },
   "file_extension": ".py",
   "mimetype": "text/x-python",
   "name": "python",
   "nbconvert_exporter": "python",
   "pygments_lexer": "ipython3",
   "version": "3.10.9"
  }
 },
 "nbformat": 4,
 "nbformat_minor": 5
}
